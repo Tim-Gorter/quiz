{
 "cells": [
  {
   "cell_type": "code",
   "execution_count": 1,
   "id": "cc8d3ff3-86b6-4af5-8c1d-7c1be43d6b10",
   "metadata": {
    "scrolled": true
   },
   "outputs": [
    {
     "data": {
      "application/vnd.jupyter.widget-view+json": {
       "model_id": "b6aa77fdbc0f4f4e9ab21d4927d32598",
       "version_major": 2,
       "version_minor": 0
      },
      "text/plain": [
       "VBox(children=(HTML(value=\"<b style='font-size:16px; color:black; background-color:#e0e0e0; padding:2px 4px; b…"
      ]
     },
     "execution_count": 1,
     "metadata": {},
     "output_type": "execute_result"
    }
   ],
   "source": [
    "#@title Quiz\n",
    "online_version = False\n",
    "from Quiz import Quiz\n",
    "from VisualManager import VisualManager\n",
    "\n",
    "if online_version:\n",
    "    from GoogleDrive import GoogleDrive\n",
    "    drive = GoogleDrive()\n",
    "else:\n",
    "    from LocalDrive import GoogleDrive\n",
    "    drive = GoogleDrive()\n",
    "\n",
    "VisMgr = VisualManager(drive, online_version)\n",
    "display_output = VisMgr.getQuizTab()\n",
    "currentQuiz = Quiz.open_quiz(display_output)\n",
    "VisMgr.setQuiz(currentQuiz)\n",
    "VisMgr.getQsts().options = [x.getTitle() for x in currentQuiz.getQuestions()]\n",
    "display_output\n"
   ]
  },
  {
   "cell_type": "code",
   "execution_count": 1,
   "id": "8e16e766-5d55-4300-ab99-a6b5b63786ee",
   "metadata": {},
   "outputs": [],
   "source": [
    "def square(x):\n",
    "    return x*9*22"
   ]
  },
  {
   "cell_type": "code",
   "execution_count": null,
   "id": "71898b13-0e04-401e-a5c1-5ccc10c9e851",
   "metadata": {},
   "outputs": [],
   "source": []
  },
  {
   "cell_type": "code",
   "execution_count": null,
   "id": "2b4c5612-f099-4805-b097-2504d6146576",
   "metadata": {},
   "outputs": [],
   "source": []
  }
 ],
 "metadata": {
  "kernelspec": {
   "display_name": "Python 3 (ipykernel)",
   "language": "python",
   "name": "python3"
  },
  "language_info": {
   "codemirror_mode": {
    "name": "ipython",
    "version": 3
   },
   "file_extension": ".py",
   "mimetype": "text/x-python",
   "name": "python",
   "nbconvert_exporter": "python",
   "pygments_lexer": "ipython3",
   "version": "3.12.3"
  }
 },
 "nbformat": 4,
 "nbformat_minor": 5
}
